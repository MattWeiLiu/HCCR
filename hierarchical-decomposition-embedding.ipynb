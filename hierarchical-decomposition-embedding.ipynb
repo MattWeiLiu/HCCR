{
 "cells": [
  {
   "cell_type": "code",
   "execution_count": 1,
   "metadata": {},
   "outputs": [],
   "source": [
    "import pandas as pd\n",
    "import numpy as np\n",
    "from pycasia.CASIA import CASIA\n",
    "from PIL import Image\n",
    "from glob import glob\n",
    "import re\n",
    "import tqdm"
   ]
  },
  {
   "cell_type": "code",
   "execution_count": 2,
   "metadata": {},
   "outputs": [],
   "source": [
    "### Whole Chinese Character\n",
    "with open('data/tc_cha_4808.txt','r') as fp:\n",
    "     all_chas = fp.readlines()\n",
    "all_chas = ['{}'.format(cha) for cha in all_chas[0]]"
   ]
  },
  {
   "cell_type": "code",
   "execution_count": 3,
   "metadata": {},
   "outputs": [],
   "source": [
    "with open('data/ids-cdp-character.csv','r') as fp:\n",
    "     cdp = fp.readlines()\n",
    "\n",
    "with open('data/ids-cdp-radicals.csv','r') as fp:\n",
    "     rad = fp.readlines()\n",
    "        \n",
    "cdp.extend(rad)"
   ]
  },
  {
   "cell_type": "code",
   "execution_count": 4,
   "metadata": {},
   "outputs": [
    {
     "name": "stderr",
     "output_type": "stream",
     "text": [
      "/Users/matthewliu/opt/anaconda3/envs/hccr/lib/python3.7/site-packages/ipykernel_launcher.py:5: TqdmDeprecationWarning: This function will be removed in tqdm==5.0.0\n",
      "Please use `tqdm.notebook.tqdm` instead of `tqdm.tqdm_notebook`\n",
      "  \"\"\"\n"
     ]
    },
    {
     "data": {
      "application/vnd.jupyter.widget-view+json": {
       "model_id": "e79173e450de4266975a46ccfb9fb19a",
       "version_major": 2,
       "version_minor": 0
      },
      "text/plain": [
       "HBox(children=(HTML(value=''), FloatProgress(value=0.0, max=89591.0), HTML(value='')))"
      ]
     },
     "metadata": {},
     "output_type": "display_data"
    },
    {
     "name": "stdout",
     "output_type": "stream",
     "text": [
      "\n",
      "(89591, 6)\n"
     ]
    },
    {
     "data": {
      "text/html": [
       "<div>\n",
       "<style scoped>\n",
       "    .dataframe tbody tr th:only-of-type {\n",
       "        vertical-align: middle;\n",
       "    }\n",
       "\n",
       "    .dataframe tbody tr th {\n",
       "        vertical-align: top;\n",
       "    }\n",
       "\n",
       "    .dataframe thead th {\n",
       "        text-align: right;\n",
       "    }\n",
       "</style>\n",
       "<table border=\"1\" class=\"dataframe\">\n",
       "  <thead>\n",
       "    <tr style=\"text-align: right;\">\n",
       "      <th></th>\n",
       "      <th>0</th>\n",
       "      <th>1</th>\n",
       "      <th>2</th>\n",
       "      <th>3</th>\n",
       "      <th>4</th>\n",
       "      <th>5</th>\n",
       "    </tr>\n",
       "  </thead>\n",
       "  <tbody>\n",
       "    <tr>\n",
       "      <th>0</th>\n",
       "      <td>U+2460</td>\n",
       "      <td>①</td>\n",
       "      <td>①</td>\n",
       "      <td>None</td>\n",
       "      <td>None</td>\n",
       "      <td>None</td>\n",
       "    </tr>\n",
       "    <tr>\n",
       "      <th>1</th>\n",
       "      <td>U+2461</td>\n",
       "      <td>②</td>\n",
       "      <td>②</td>\n",
       "      <td>None</td>\n",
       "      <td>None</td>\n",
       "      <td>None</td>\n",
       "    </tr>\n",
       "    <tr>\n",
       "      <th>2</th>\n",
       "      <td>U+2462</td>\n",
       "      <td>③</td>\n",
       "      <td>③</td>\n",
       "      <td>None</td>\n",
       "      <td>None</td>\n",
       "      <td>None</td>\n",
       "    </tr>\n",
       "    <tr>\n",
       "      <th>3</th>\n",
       "      <td>U+2463</td>\n",
       "      <td>④</td>\n",
       "      <td>④</td>\n",
       "      <td>None</td>\n",
       "      <td>None</td>\n",
       "      <td>None</td>\n",
       "    </tr>\n",
       "    <tr>\n",
       "      <th>4</th>\n",
       "      <td>U+2464</td>\n",
       "      <td>⑤</td>\n",
       "      <td>⑤</td>\n",
       "      <td>None</td>\n",
       "      <td>None</td>\n",
       "      <td>None</td>\n",
       "    </tr>\n",
       "  </tbody>\n",
       "</table>\n",
       "</div>"
      ],
      "text/plain": [
       "        0  1  2     3     4     5\n",
       "0  U+2460  ①  ①  None  None  None\n",
       "1  U+2461  ②  ②  None  None  None\n",
       "2  U+2462  ③  ③  None  None  None\n",
       "3  U+2463  ④  ④  None  None  None\n",
       "4  U+2464  ⑤  ⑤  None  None  None"
      ]
     },
     "execution_count": 4,
     "metadata": {},
     "output_type": "execute_result"
    }
   ],
   "source": [
    "## 僅保留第一種造字法則\n",
    "## 去掉\\n、空格\n",
    "cdp_2 = []\n",
    "\n",
    "for line in tqdm.tqdm_notebook(cdp):\n",
    "    matchObj = re.search('\\[\\w{1,5}\\]', line)\n",
    "    if matchObj:\n",
    "        # print (line[:matchObj.span()[0]])\n",
    "        tmp_line = line[:matchObj.span()[0]].split(',')\n",
    "        cdp_2.append(list(filter(lambda x:x != '', tmp_line)))\n",
    "    else:\n",
    "        # print(line)\n",
    "        tmp_line = line.rstrip().split(',')\n",
    "        cdp_2.append(list(filter(lambda x:x != '', tmp_line)))\n",
    "all_cha = pd.DataFrame(cdp_2)\n",
    "print(all_cha.shape)\n",
    "all_cha.head()"
   ]
  },
  {
   "cell_type": "code",
   "execution_count": 5,
   "metadata": {},
   "outputs": [
    {
     "data": {
      "text/plain": [
       "(4808, 6)"
      ]
     },
     "execution_count": 5,
     "metadata": {},
     "output_type": "execute_result"
    }
   ],
   "source": [
    "## 保留常用中文，去掉日韓及符號等unicode\n",
    "\n",
    "chi_cha = all_cha[all_cha[1].isin(all_chas)]\n",
    "chi_cha.shape"
   ]
  },
  {
   "cell_type": "code",
   "execution_count": 6,
   "metadata": {},
   "outputs": [],
   "source": [
    "struc_set = set(['⿰', '⿱', '⿲', \n",
    "                 '⿳', '⿴', '⿵', \n",
    "                 '⿶', '⿷', '⿸', \n",
    "                 '⿹', '⿺', '⿻'])"
   ]
  },
  {
   "cell_type": "code",
   "execution_count": 7,
   "metadata": {},
   "outputs": [],
   "source": [
    "def rad_decompose(string):\n",
    "    pattern_rad = re.compile('&[-A-Z0-9]+;')\n",
    "    res = []\n",
    "    while len(string)>0:\n",
    "        matchObj = pattern_rad.match(string)\n",
    "        if matchObj:\n",
    "            i = matchObj.span()[1]\n",
    "        else:\n",
    "            i=1\n",
    "        res.append(string[:i])\n",
    "        string = string[i:]\n",
    "    return res\n",
    "\n",
    "def decompose(series):\n",
    "    # print ('series1: {}'.format(series[1]), 'series2: {}'.format(series[2]))\n",
    "    \n",
    "    pattern_stc = re.compile('[⿰, ⿱, ⿲, ⿳, ⿴, ⿵, ⿶, ⿷, ⿸, ⿹, ⿺, ⿻]+')\n",
    "    if series[1] == series[2]:\n",
    "        ## return Leaf/Radical\n",
    "        return series[2]\n",
    "    else:\n",
    "        ## find path\n",
    "        root = series[2]\n",
    "        split    = pattern_stc.split(root)[1:]\n",
    "        matchObj = pattern_stc.findall(root)\n",
    "        \n",
    "        root_split = {}\n",
    "        for i, k in enumerate(split):\n",
    "            root_split[matchObj[i]] = rad_decompose(k)\n",
    "        \n",
    "        for k, v in root_split.items():\n",
    "            for ii, vv in enumerate(v):\n",
    "                root_split[k][ii] = decompose(all_cha[all_cha[1] == vv].squeeze())\n",
    "        return root_split"
   ]
  },
  {
   "cell_type": "code",
   "execution_count": 8,
   "metadata": {},
   "outputs": [
    {
     "name": "stdout",
     "output_type": "stream",
     "text": [
      "{'⿱': [{'⿻': ['十', '丨']}, '禺']}\n",
      "{'⿱': [{'⿻': ['甲', '一']}, '一']}\n",
      "{'⿱': [{'⿱': ['一', {'⿻': ['冂', {'⿻': ['丨', {'⿱': ['丷', '八']}]}]}]}, {'⿱': [{'⿱': ['一', '一']}, '厶']}]}\n"
     ]
    }
   ],
   "source": [
    "print (decompose(all_cha[all_cha[1] == '萬'].squeeze()))\n",
    "print (decompose(all_cha[all_cha[1] == '里'].squeeze()))\n",
    "print (decompose(all_cha[all_cha[1] == '雲'].squeeze()))"
   ]
  },
  {
   "cell_type": "code",
   "execution_count": 9,
   "metadata": {},
   "outputs": [
    {
     "name": "stdout",
     "output_type": "stream",
     "text": [
      "CPU times: user 3min 11s, sys: 464 ms, total: 3min 11s\n",
      "Wall time: 3min 12s\n"
     ]
    },
    {
     "name": "stderr",
     "output_type": "stream",
     "text": [
      "/Users/matthewliu/opt/anaconda3/envs/hccr/lib/python3.7/site-packages/ipykernel_launcher.py:1: SettingWithCopyWarning: \n",
      "A value is trying to be set on a copy of a slice from a DataFrame.\n",
      "Try using .loc[row_indexer,col_indexer] = value instead\n",
      "\n",
      "See the caveats in the documentation: https://pandas.pydata.org/pandas-docs/stable/user_guide/indexing.html#returning-a-view-versus-a-copy\n",
      "  \"\"\"Entry point for launching an IPython kernel.\n"
     ]
    }
   ],
   "source": [
    "%%time\n",
    "chi_cha['hierarchical'] = chi_cha.apply(lambda x:decompose(x), axis=1)"
   ]
  },
  {
   "cell_type": "code",
   "execution_count": 10,
   "metadata": {},
   "outputs": [],
   "source": [
    "def depth_loc(x, loc=[1]):\n",
    "    tmp = []\n",
    "    if isinstance(x, dict):\n",
    "        for k, v in x.items():\n",
    "            tmp.append([k, loc])\n",
    "            tmp.extend(depth_loc(v, loc))\n",
    "    if isinstance(x, list):\n",
    "        for i, k in enumerate(x):\n",
    "            tmp.extend(depth_loc(k, loc+[i+1]))\n",
    "    if isinstance(x, str):\n",
    "        tmp = [[x, loc]]\n",
    "    return tmp"
   ]
  },
  {
   "cell_type": "code",
   "execution_count": 11,
   "metadata": {},
   "outputs": [
    {
     "name": "stdout",
     "output_type": "stream",
     "text": [
      "[['⿱', [1]], ['⿻', [1, 1]], ['十', [1, 1, 1]], ['丨', [1, 1, 2]], ['禺', [1, 2]]]\n",
      "[['⿱', [1]], ['⿻', [1, 1]], ['甲', [1, 1, 1]], ['一', [1, 1, 2]], ['一', [1, 2]]]\n",
      "[['⿱', [1]], ['⿱', [1, 1]], ['一', [1, 1, 1]], ['⿻', [1, 1, 2]], ['冂', [1, 1, 2, 1]], ['⿻', [1, 1, 2, 2]], ['丨', [1, 1, 2, 2, 1]], ['⿱', [1, 1, 2, 2, 2]], ['丷', [1, 1, 2, 2, 2, 1]], ['八', [1, 1, 2, 2, 2, 2]], ['⿱', [1, 2]], ['⿱', [1, 2, 1]], ['一', [1, 2, 1, 1]], ['一', [1, 2, 1, 2]], ['厶', [1, 2, 2]]]\n"
     ]
    }
   ],
   "source": [
    "print (depth_loc(chi_cha[chi_cha[1] == '萬']['hierarchical'].values[0]))\n",
    "print (depth_loc(chi_cha[chi_cha[1] == '里']['hierarchical'].values[0]))\n",
    "print (depth_loc(chi_cha[chi_cha[1] == '雲']['hierarchical'].values[0]))"
   ]
  },
  {
   "cell_type": "code",
   "execution_count": 12,
   "metadata": {},
   "outputs": [
    {
     "name": "stdout",
     "output_type": "stream",
     "text": [
      "CPU times: user 187 ms, sys: 6.7 ms, total: 194 ms\n",
      "Wall time: 196 ms\n"
     ]
    },
    {
     "name": "stderr",
     "output_type": "stream",
     "text": [
      "/Users/matthewliu/opt/anaconda3/envs/hccr/lib/python3.7/site-packages/ipykernel_launcher.py:1: SettingWithCopyWarning: \n",
      "A value is trying to be set on a copy of a slice from a DataFrame.\n",
      "Try using .loc[row_indexer,col_indexer] = value instead\n",
      "\n",
      "See the caveats in the documentation: https://pandas.pydata.org/pandas-docs/stable/user_guide/indexing.html#returning-a-view-versus-a-copy\n",
      "  \"\"\"Entry point for launching an IPython kernel.\n"
     ]
    }
   ],
   "source": [
    "%%time\n",
    "chi_cha['depth_loc'] = chi_cha.apply(lambda x:depth_loc(x['hierarchical']), axis=1)"
   ]
  },
  {
   "cell_type": "markdown",
   "metadata": {},
   "source": [
    "# Embedding"
   ]
  },
  {
   "cell_type": "code",
   "execution_count": 13,
   "metadata": {},
   "outputs": [],
   "source": [
    "rad = []\n",
    "for c in chi_cha.depth_loc.values:\n",
    "    for cc in c:\n",
    "        rad.append(cc[0])\n",
    "        \n",
    "rad = set(rad) - struc_set \n",
    "rad = rad - set(['⿰⿱','⿰⿳','⿰⿵','⿱⿰','⿱⿱','⿱⿲','⿱⿳','⿱⿴','⿱⿵','⿱⿶','⿱⿻','⿳⿰','⿳⿲','⿸⿱','⿻⿱'])"
   ]
  },
  {
   "cell_type": "markdown",
   "metadata": {},
   "source": [
    "#### config"
   ]
  },
  {
   "cell_type": "code",
   "execution_count": 14,
   "metadata": {},
   "outputs": [],
   "source": [
    "alpha = 0.5\n",
    "beta  = 0.001\n",
    "la    = 0.5"
   ]
  },
  {
   "cell_type": "code",
   "execution_count": 15,
   "metadata": {},
   "outputs": [],
   "source": [
    "Embedding = pd.DataFrame(index=list(rad) + list(struc_set))"
   ]
  },
  {
   "cell_type": "code",
   "execution_count": 16,
   "metadata": {},
   "outputs": [
    {
     "name": "stderr",
     "output_type": "stream",
     "text": [
      "/Users/matthewliu/opt/anaconda3/envs/hccr/lib/python3.7/site-packages/ipykernel_launcher.py:1: TqdmDeprecationWarning: This function will be removed in tqdm==5.0.0\n",
      "Please use `tqdm.notebook.tqdm` instead of `tqdm.tqdm_notebook`\n",
      "  \"\"\"Entry point for launching an IPython kernel.\n"
     ]
    },
    {
     "data": {
      "application/vnd.jupyter.widget-view+json": {
       "model_id": "4345523ffbc54185a9700f8354c67eac",
       "version_major": 2,
       "version_minor": 0
      },
      "text/plain": [
       "HBox(children=(HTML(value=''), FloatProgress(value=0.0, max=4808.0), HTML(value='')))"
      ]
     },
     "metadata": {},
     "output_type": "display_data"
    },
    {
     "name": "stdout",
     "output_type": "stream",
     "text": [
      "\n"
     ]
    }
   ],
   "source": [
    "for idx in tqdm.tqdm_notebook(range(chi_cha.shape[0])):\n",
    "    Embedding[chi_cha.iloc[idx,:][1]] = 0\n",
    "    for compment in chi_cha.iloc[idx,:]['depth_loc']:   \n",
    "        v = alpha**(len(compment[1])-1)\n",
    "        if len(compment[0])>2:              ### eq:'CDP-8A44'\n",
    "            for i, c in enumerate(compment[1]):\n",
    "                v += (alpha**(i))*(-c*beta)\n",
    "            Embedding.loc[compment[0],chi_cha.iloc[idx,:][1]] += v\n",
    "            \n",
    "        elif len(compment[0])==2:           ### '⿰⿳'\n",
    "            for i, c in enumerate(compment[1]):\n",
    "                v += (alpha**(i))*(-c*beta)\n",
    "            v *= la\n",
    "            \n",
    "            for c in compment[0]:\n",
    "                Embedding.loc[c, chi_cha.iloc[idx,:][1]] += v\n",
    "            \n",
    "        elif compment[0] in struc_set:      ### '⿰'\n",
    "            for i, c in enumerate(compment[1]):\n",
    "                v += (alpha**(i))*(-c*beta)\n",
    "            v *= la\n",
    "            Embedding.loc[compment[0],chi_cha.iloc[idx,:][1]] += v\n",
    "            \n",
    "        else:                               ### '土'\n",
    "            for i, c in enumerate(compment[1]):\n",
    "                v += (alpha**(i))*(-c*beta)\n",
    "            Embedding.loc[compment[0],chi_cha.iloc[idx,:][1]] += v"
   ]
  },
  {
   "cell_type": "code",
   "execution_count": 17,
   "metadata": {},
   "outputs": [
    {
     "data": {
      "text/plain": [
       "木    0.99375\n",
       "⿱    0.49950\n",
       "⿰    0.24900\n",
       "Name: 森, dtype: float64"
      ]
     },
     "execution_count": 17,
     "metadata": {},
     "output_type": "execute_result"
    }
   ],
   "source": [
    "Embedding['森'][Embedding['森']>0]"
   ]
  },
  {
   "cell_type": "code",
   "execution_count": 18,
   "metadata": {},
   "outputs": [],
   "source": [
    "Embedding.to_csv('data/Embedding_tc_{}_{}_{}.csv'.format(alpha, beta, la))"
   ]
  },
  {
   "cell_type": "code",
   "execution_count": 28,
   "metadata": {},
   "outputs": [
    {
     "data": {
      "text/plain": [
       "789"
      ]
     },
     "execution_count": 28,
     "metadata": {},
     "output_type": "execute_result"
    }
   ],
   "source": [
    "((Embedding**2).sum().sort_values()>1).sum()"
   ]
  },
  {
   "cell_type": "code",
   "execution_count": 37,
   "metadata": {},
   "outputs": [
    {
     "data": {
      "text/plain": [
       "789"
      ]
     },
     "execution_count": 37,
     "metadata": {},
     "output_type": "execute_result"
    }
   ],
   "source": [
    "np.sum(np.sort(np.sqrt((Embedding**2).sum()))>1)"
   ]
  },
  {
   "cell_type": "code",
   "execution_count": 38,
   "metadata": {},
   "outputs": [
    {
     "data": {
      "text/plain": [
       "4019"
      ]
     },
     "execution_count": 38,
     "metadata": {},
     "output_type": "execute_result"
    }
   ],
   "source": [
    "np.sum(np.sort(np.sqrt((Embedding**2).sum()))<=1)"
   ]
  },
  {
   "cell_type": "code",
   "execution_count": null,
   "metadata": {},
   "outputs": [],
   "source": []
  },
  {
   "cell_type": "code",
   "execution_count": null,
   "metadata": {},
   "outputs": [],
   "source": []
  }
 ],
 "metadata": {
  "environment": {
   "name": "pytorch-gpu.1-4.m58",
   "type": "gcloud",
   "uri": "gcr.io/deeplearning-platform-release/pytorch-gpu.1-4:m58"
  },
  "kernelspec": {
   "display_name": "Python 3",
   "language": "python",
   "name": "python3"
  },
  "language_info": {
   "codemirror_mode": {
    "name": "ipython",
    "version": 3
   },
   "file_extension": ".py",
   "mimetype": "text/x-python",
   "name": "python",
   "nbconvert_exporter": "python",
   "pygments_lexer": "ipython3",
   "version": "3.7.4"
  }
 },
 "nbformat": 4,
 "nbformat_minor": 4
}
